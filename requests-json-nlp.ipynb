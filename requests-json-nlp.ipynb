{
 "cells": [
  {
   "cell_type": "markdown",
   "metadata": {},
   "source": [
    "# Web Mining and Applied NLP (44-620)\n",
    "\n",
    "## Requests, JSON, and NLP\n",
    "\n",
    "### Student Name: Scott Williamson\n",
    "\n",
    "https://github.com/scottryanw/Module_4_44620 \n",
    "\n",
    "Perform the tasks described in the Markdown cells below.  When you have completed the assignment make sure your code cells have all been run (and have output beneath them) and ensure you have committed and pushed ALL of your changes to your assignment repository.\n",
    "\n",
    "Make sure you have [installed spaCy and its pipeline](https://spacy.io/usage#quickstart) and [spaCyTextBlob](https://spacy.io/universe/project/spacy-textblob)\n",
    "\n",
    "Every question that requires you to write code will have a code cell underneath it; you may either write your entire solution in that cell or write it in a python file (`.py`), then import and run the appropriate code to answer the question.\n",
    "\n",
    "This assignment requires that you write additional files (either JSON or pickle files); make sure to submit those files in your repository as well."
   ]
  },
  {
   "cell_type": "code",
   "execution_count": 18,
   "metadata": {},
   "outputs": [],
   "source": [
    "import spacy\n",
    "from spacytextblob.spacytextblob import SpacyTextBlob"
   ]
  },
  {
   "cell_type": "markdown",
   "metadata": {},
   "source": [
    "## Question 1"
   ]
  },
  {
   "cell_type": "markdown",
   "metadata": {},
   "source": [
    "1. The following code accesses the [lyrics.ovh](https://lyricsovh.docs.apiary.io/#reference/0/lyrics-of-a-song/search) public api, searches for the lyrics of a song, and stores it in a dictionary object.  Write the resulting json to a file (either a JSON file or a pickle file; you choose). You will read in the contents of this file for future questions so we do not need to frequently access the API."
   ]
  },
  {
   "cell_type": "code",
   "execution_count": 19,
   "metadata": {},
   "outputs": [
    {
     "name": "stdout",
     "output_type": "stream",
     "text": [
      "JSON data written to lyrics.json\n"
     ]
    }
   ],
   "source": [
    "import requests\n",
    "import json\n",
    "\n",
    "result = json.loads(requests.get('https://api.lyrics.ovh/v1/They Might Be Giants/Birdhouse in your soul').text)\n",
    "\n",
    "# Write the resulting JSON to a file for future use\n",
    "output_file = \"lyrics.json\"\n",
    "with open(output_file, \"w\") as file:\n",
    "    json.dump(result, file, indent=4)\n",
    "\n",
    "print(f\"JSON data written to {output_file}\")"
   ]
  },
  {
   "cell_type": "markdown",
   "metadata": {},
   "source": [
    "## Question 2"
   ]
  },
  {
   "cell_type": "markdown",
   "metadata": {},
   "source": [
    "2. Read in the contents of your file.  Print the lyrics of the song (not the entire dictionary!) and use spaCyTextBlob to perform sentiment analysis on the lyrics.  Print the polarity score of the sentiment analysis.  Given that the range of the polarity score is `[-1.0,1.0]` which corresponds to how positive or negative the text in question is, do you think the lyrics have a more positive or negative connotaion?  Answer this question in a comment in your code cell."
   ]
  },
  {
   "cell_type": "code",
   "execution_count": 20,
   "metadata": {},
   "outputs": [
    {
     "name": "stdout",
     "output_type": "stream",
     "text": [
      "Lyrics:\n",
      " I'm your only friend \n",
      "I'm not your only friend \n",
      "But I'm a little glowing friend \n",
      "But really I'm not actually your friend \n",
      "But I am \n",
      "\n",
      "\n",
      "Blue canary in the outlet by the light switch \n",
      "\n",
      "Who watches over you \n",
      "\n",
      "Make a little birdhouse in your soul \n",
      "\n",
      "Not to put too fine a point on it \n",
      "\n",
      "Say I'm the only bee in your bonnet \n",
      "\n",
      "Make a little birdhouse in your soul \n",
      "\n",
      "\n",
      "\n",
      "I have a secret to tell \n",
      "\n",
      "From my electrical well \n",
      "\n",
      "It's a simple message and I'm leaving out the whistles and bells \n",
      "\n",
      "So the room must listen to me \n",
      "\n",
      "Filibuster vigilantly \n",
      "\n",
      "My name is blue canary one note* spelled l-i-t-e \n",
      "\n",
      "My story's infinite \n",
      "\n",
      "Like the Longines Symphonette it doesn't rest \n",
      "\n",
      "\n",
      "\n",
      "Blue canary in the outlet by the light switch \n",
      "\n",
      "Who watches over you \n",
      "\n",
      "Make a little birdhouse in your soul \n",
      "\n",
      "Not to put too fine a point on it \n",
      "\n",
      "Say I'm the only bee in your bonnet \n",
      "\n",
      "Make a little birdhouse in your soul \n",
      "\n",
      "\n",
      "\n",
      "I'm your only friend \n",
      "\n",
      "I'm not your only friend \n",
      "\n",
      "But I'm a little glowing friend \n",
      "\n",
      "But really I'm not actually your friend \n",
      "\n",
      "But I am \n",
      "\n",
      "\n",
      "\n",
      "There's a picture opposite me \n",
      "\n",
      "Of my primitive ancestry \n",
      "\n",
      "Which stood on rocky shores and kept the beaches shipwreck free \n",
      "\n",
      "Though I respect that a lot \n",
      "\n",
      "I'd be fired if that were my job \n",
      "\n",
      "After killing Jason off and countless screaming Argonauts \n",
      "\n",
      "Bluebird of friendliness \n",
      "\n",
      "Like guardian angels its always near \n",
      "\n",
      "\n",
      "\n",
      "Blue canary in the outlet by the light switch \n",
      "\n",
      "Who watches over you \n",
      "\n",
      "Make a little birdhouse in your soul \n",
      "\n",
      "Not to put too fine a point on it \n",
      "\n",
      "Say I'm the only bee in your bonnet \n",
      "\n",
      "Make a little birdhouse in your soul \n",
      "\n",
      "\n",
      "\n",
      "(and while you're at it \n",
      "\n",
      "Keep the nightlight on inside the \n",
      "\n",
      "Birdhouse in your soul) \n",
      "\n",
      "\n",
      "\n",
      "Not to put too fine a point on it \n",
      "\n",
      "Say I'm the only bee in your bonnet \n",
      "\n",
      "Make a little birdhouse in your soul \n",
      "\n",
      "\n",
      "\n",
      "Blue canary in the outlet by the light switch (and while you're at it) \n",
      "\n",
      "Who watches over you (keep the nightlight on inside the) \n",
      "\n",
      "Make a little birdhouse in your soul (birdhouse in your soul) \n",
      "\n",
      "\n",
      "\n",
      "Not to put too fine a point on it \n",
      "\n",
      "Say I'm the only bee in your bonnet \n",
      "\n",
      "Make a little birdhouse in your soul \n",
      "\n",
      "\n",
      "\n",
      "Blue canary in the outlet by the light switch (and while you're at it) \n",
      "\n",
      "Who watches over you (keep the nightlight on inside the) \n",
      "\n",
      "Make a little birdhouse in your soul (birdhouse in your soul) \n",
      "\n",
      "\n",
      "\n",
      "Not to put too fine a point on it \n",
      "\n",
      "Say I'm the only bee in your bonnet \n",
      "\n",
      "Make a little birdhouse in your soul\n",
      "\n",
      "Polarity Score: 0.04505208333333333\n",
      "The lyrics have a more positive connotation.\n"
     ]
    }
   ],
   "source": [
    "from textblob import TextBlob\n",
    "import json\n",
    "\n",
    "# Load JSON data from file\n",
    "input_file = \"lyrics.json\"\n",
    "with open(input_file, \"r\") as file:\n",
    "    data = json.load(file)\n",
    "\n",
    "# Extract lyrics from the dictionary\n",
    "lyrics = data.get(\"lyrics\", \"\")\n",
    "print(\"Lyrics:\\n\", lyrics)\n",
    "\n",
    "# Perform sentiment analysis with TextBlob\n",
    "blob = TextBlob(lyrics)\n",
    "polarity = blob.sentiment.polarity\n",
    "print(\"\\nPolarity Score:\", polarity)\n",
    "\n",
    "# Analyze sentiment\n",
    "if polarity > 0:\n",
    "    print(\"The lyrics have a more positive connotation.\")\n",
    "elif polarity < 0:\n",
    "    print(\"The lyrics have a more negative connotation.\")\n",
    "else:\n",
    "    print(\"The lyrics have a neutral connotation.\")"
   ]
  },
  {
   "cell_type": "markdown",
   "metadata": {},
   "source": [
    "## Question 3"
   ]
  },
  {
   "cell_type": "markdown",
   "metadata": {},
   "source": [
    "3. Write a function that takes an artist, song, and filename, accesses the lyrics.ovh api to get the song lyrics, and writes the results to the specified filename.  Test this function by getting the lyrics to any four songs of your choice and storing them in different files."
   ]
  },
  {
   "cell_type": "code",
   "execution_count": 21,
   "metadata": {},
   "outputs": [
    {
     "name": "stdout",
     "output_type": "stream",
     "text": [
      "Searching for \"Vampire\" by Olivia Rodrigo...\n",
      "Done.\n",
      "Lyrics saved to vampire.json.\n",
      "Searching for \"K-POP\" by Travis Scott...\n",
      "Done.\n",
      "Lyrics saved to k_pop.json.\n",
      "Searching for \"What Was I Made For?\" by Billie Eilish...\n",
      "Done.\n",
      "Lyrics saved to what_was_i_made_for.json.\n",
      "Searching for \"Love Again\" by The Kid LAROI...\n",
      "Done.\n",
      "Lyrics saved to love_again.json.\n"
     ]
    }
   ],
   "source": [
    "import lyricsgenius\n",
    "import json\n",
    "\n",
    "def fetch_and_save_lyrics(artist, song, filename, api_key):\n",
    "    genius = lyricsgenius.Genius(api_key)\n",
    "    song = genius.search_song(song, artist)\n",
    "    \n",
    "    if song:\n",
    "        lyrics = song.lyrics\n",
    "        with open(filename, \"w\") as file:\n",
    "            json.dump({'lyrics': lyrics}, file, indent=4)\n",
    "        print(f\"Lyrics saved to {filename}.\")\n",
    "    else:\n",
    "        print(f\"Song not found.\")\n",
    "\n",
    "# Test the function with four current songs\n",
    "api_key = \"U6PKDS2IKGJlgo5MoAU5mYOi02hHaV-BCi_3pgDgKpxBXEhh7c1yuhs424_C-qmc\"\n",
    "fetch_and_save_lyrics(\"Olivia Rodrigo\", \"Vampire\", \"vampire.json\", api_key)\n",
    "fetch_and_save_lyrics(\"Travis Scott\", \"K-POP\", \"k_pop.json\", api_key)\n",
    "fetch_and_save_lyrics(\"Billie Eilish\", \"What Was I Made For?\", \"what_was_i_made_for.json\", api_key)\n",
    "fetch_and_save_lyrics(\"The Kid LAROI\", \"Love Again\", \"love_again.json\", api_key)\n",
    "\n"
   ]
  },
  {
   "cell_type": "markdown",
   "metadata": {},
   "source": [
    "## Question 4"
   ]
  },
  {
   "cell_type": "markdown",
   "metadata": {},
   "source": [
    "4. Write a function that takes the name of a file that contains song lyrics, loads the file, performs sentiment analysis, and returns the polarity score.  Use this function to print the polarity scores (with the name of the song) of the three files you created in question 3.  Does the reported polarity match your understanding of the song's lyrics? Why or why not do you think that might be?  Answer the questions in either a comment in the code cell or a markdown cell under the code cell."
   ]
  },
  {
   "cell_type": "code",
   "execution_count": 22,
   "metadata": {},
   "outputs": [
    {
     "name": "stdout",
     "output_type": "stream",
     "text": [
      "Polarity score for vampire.json: -0.085843685300207\n",
      "Polarity score for k_pop.json: -0.06488520408163265\n",
      "Polarity score for what_was_i_made_for.json: 0.09930555555555556\n",
      "Polarity score for love_again.json: 0.31875000000000003\n"
     ]
    }
   ],
   "source": [
    "from textblob import TextBlob\n",
    "import json\n",
    "\n",
    "def analyze_sentiment_from_file(filename):\n",
    "    \"\"\"\n",
    "    Analyzes the sentiment of song lyrics from a file and returns the polarity score.\n",
    "    \n",
    "    Parameters:\n",
    "        filename (str): The file that contains the song lyrics.\n",
    "    \n",
    "    Returns:\n",
    "        polarity (float): The polarity score of the lyrics.\n",
    "    \"\"\"\n",
    "    try:\n",
    "        # Load the song lyrics from the file\n",
    "        with open(filename, \"r\") as file:\n",
    "            data = json.load(file)\n",
    "        \n",
    "        lyrics = data.get(\"lyrics\", \"\")\n",
    "        \n",
    "        # Perform sentiment analysis using TextBlob\n",
    "        blob = TextBlob(lyrics)\n",
    "        polarity = blob.sentiment.polarity\n",
    "        return polarity\n",
    "    \n",
    "    except FileNotFoundError:\n",
    "        print(f\"File {filename} not found.\")\n",
    "        return None\n",
    "    except json.JSONDecodeError:\n",
    "        print(f\"Error decoding JSON from file {filename}.\")\n",
    "        return None\n",
    "\n",
    "# Test the function with the files created earlier\n",
    "songs_files = [\"vampire.json\", \"k_pop.json\", \"what_was_i_made_for.json\", \"love_again.json\"]\n",
    "for song_file in songs_files:\n",
    "    polarity = analyze_sentiment_from_file(song_file)\n",
    "    if polarity is not None:\n",
    "        print(f\"Polarity score for {song_file}: {polarity}\")"
   ]
  },
  {
   "cell_type": "markdown",
   "metadata": {},
   "source": [
    "Yes, thepolarity matches the general tone of each of these songs as I understand them."
   ]
  },
  {
   "cell_type": "markdown",
   "metadata": {},
   "source": [
    "HTML Export"
   ]
  },
  {
   "cell_type": "code",
   "execution_count": 24,
   "metadata": {},
   "outputs": [
    {
     "name": "stdout",
     "output_type": "stream",
     "text": [
      "[NbConvertApp] Converting notebook requests-json-nlp.ipynb to html\n",
      "[NbConvertApp] Writing 306894 bytes to requests-json-nlp.html\n"
     ]
    }
   ],
   "source": [
    "!jupyter nbconvert --to html requests-json-nlp.ipynb"
   ]
  }
 ],
 "metadata": {
  "kernelspec": {
   "display_name": "Python 3",
   "language": "python",
   "name": "python3"
  },
  "language_info": {
   "codemirror_mode": {
    "name": "ipython",
    "version": 3
   },
   "file_extension": ".py",
   "mimetype": "text/x-python",
   "name": "python",
   "nbconvert_exporter": "python",
   "pygments_lexer": "ipython3",
   "version": "3.12.4"
  }
 },
 "nbformat": 4,
 "nbformat_minor": 4
}
